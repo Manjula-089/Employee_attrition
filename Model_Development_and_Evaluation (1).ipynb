{
 "cells": [
  {
   "cell_type": "markdown",
   "id": "77db4bf7",
   "metadata": {},
   "source": [
    "# MODEL DEVELOPMENT AND EVALUATION"
   ]
  },
  {
   "cell_type": "code",
   "execution_count": 6,
   "id": "66aeacfd",
   "metadata": {},
   "outputs": [],
   "source": [
    "import pandas as pd\n",
    "import numpy as np\n",
    "from pandas import DataFrame\n",
    "%matplotlib inline\n",
    "import matplotlib.pyplot as plt\n",
    "import seaborn as sns\n",
    "\n",
    "from sklearn import preprocessing\n",
    "import math\n",
    "from sklearn.model_selection import train_test_split\n",
    "from sklearn import metrics "
   ]
  },
  {
   "cell_type": "code",
   "execution_count": 7,
   "id": "2feb28ac",
   "metadata": {},
   "outputs": [],
   "source": [
    "data = pd.read_csv('Employeeattrition.csv')\n",
    "data = data.drop(columns=['StandardHours','EmployeeCount','Over18','EmployeeNumber','StockOptionLevel'])\n",
    "\n",
    "le = preprocessing.LabelEncoder()\n",
    "categorial_variables = ['Attrition','BusinessTravel','Department','EducationField',\n",
    "                        'Gender','JobRole','MaritalStatus','OverTime']\n",
    "for i in categorial_variables:\n",
    "    data[i] = le.fit_transform(data[i])\n",
    "data.head(5)\n",
    "data.to_csv('LabelEncoded_CleanData.csv')"
   ]
  },
  {
   "cell_type": "code",
   "execution_count": 8,
   "id": "027e8f62",
   "metadata": {},
   "outputs": [
    {
     "data": {
      "text/plain": [
       "(1470, 29)"
      ]
     },
     "execution_count": 8,
     "metadata": {},
     "output_type": "execute_result"
    }
   ],
   "source": [
    "target = data['Attrition']\n",
    "train = data.drop('Attrition',axis = 1)\n",
    "train.shape"
   ]
  },
  {
   "cell_type": "markdown",
   "id": "7a70c79f",
   "metadata": {},
   "source": [
    "# Implementation of all the popular classifiers in scikit-learn\n",
    " 1.Logistic Regression\n",
    " 2.SVM\n",
    " 3.KNN\n",
    " 4.Decision Tree\n"
   ]
  },
  {
   "cell_type": "code",
   "execution_count": 9,
   "id": "e39208b9",
   "metadata": {},
   "outputs": [],
   "source": [
    "train_accuracy = []\n",
    "test_accuracy = []\n",
    "models = ['Logistic Regression','SVM','KNN','Decision Tree','Naive bayes']"
   ]
  },
  {
   "cell_type": "code",
   "execution_count": 10,
   "id": "cc4dc3a4",
   "metadata": {},
   "outputs": [],
   "source": [
    "#Defining a function which will give us train and test accuracy for each classifier.\n",
    "def train_test_error(y_train,y_test):\n",
    "    train_error = ((y_train==Y_train).sum())/len(y_train)*100\n",
    "    test_error = ((y_test==Y_test).sum())/len(Y_test)*100\n",
    "    train_accuracy.append(train_error)\n",
    "    test_accuracy.append(test_error)\n",
    "    print('{}'.format(train_error) + \" is the train accuracy\")\n",
    "    print('{}'.format(test_error) + \" is the test accuracy\")"
   ]
  },
  {
   "cell_type": "code",
   "execution_count": 11,
   "id": "17a9fe1e",
   "metadata": {},
   "outputs": [],
   "source": [
    "X_train, X_test, Y_train, Y_test = train_test_split(train, target, test_size=0.33, random_state=42)"
   ]
  },
  {
   "cell_type": "markdown",
   "id": "996b531a",
   "metadata": {},
   "source": [
    "# Logistic Regression"
   ]
  },
  {
   "cell_type": "code",
   "execution_count": 12,
   "id": "64c08c14",
   "metadata": {},
   "outputs": [
    {
     "name": "stdout",
     "output_type": "stream",
     "text": [
      "83.53658536585365 is the train accuracy\n",
      "85.39094650205762 is the test accuracy\n",
      "Classification Report for Test Set:\n",
      "\n",
      "              precision    recall  f1-score   support\n",
      "\n",
      "           0       0.86      1.00      0.92       416\n",
      "           1       0.00      0.00      0.00        70\n",
      "\n",
      "    accuracy                           0.85       486\n",
      "   macro avg       0.43      0.50      0.46       486\n",
      "weighted avg       0.73      0.85      0.79       486\n",
      "\n",
      "Confusion Matrix for Test Set:\n",
      "\n",
      "[[415   1]\n",
      " [ 70   0]]\n"
     ]
    },
    {
     "name": "stderr",
     "output_type": "stream",
     "text": [
      "C:\\Users\\kavya\\anaconda3\\lib\\site-packages\\sklearn\\linear_model\\_logistic.py:814: ConvergenceWarning: lbfgs failed to converge (status=1):\n",
      "STOP: TOTAL NO. of ITERATIONS REACHED LIMIT.\n",
      "\n",
      "Increase the number of iterations (max_iter) or scale the data as shown in:\n",
      "    https://scikit-learn.org/stable/modules/preprocessing.html\n",
      "Please also refer to the documentation for alternative solver options:\n",
      "    https://scikit-learn.org/stable/modules/linear_model.html#logistic-regression\n",
      "  n_iter_i = _check_optimize_result(\n"
     ]
    }
   ],
   "source": [
    "from sklearn.linear_model import LogisticRegression\n",
    "from sklearn.metrics import classification_report, confusion_matrix\n",
    "\n",
    "log_reg = LogisticRegression()\n",
    "log_reg.fit(X_train,Y_train)\n",
    "train_predict = log_reg.predict(X_train)\n",
    "test_predict = log_reg.predict(X_test)\n",
    "y_prob = log_reg.predict(train)\n",
    "y_pred = np.where(y_prob > 0.5, 1, 0)\n",
    "train_test_error(train_predict , test_predict)\n",
    "print(\"Classification Report for Test Set:\\n\")\n",
    "print(classification_report(Y_test, test_predict))\n",
    "\n",
    "print(\"Confusion Matrix for Test Set:\\n\")\n",
    "print(confusion_matrix(Y_test, test_predict))\n"
   ]
  },
  {
   "cell_type": "code",
   "execution_count": 13,
   "id": "4f55d96d",
   "metadata": {},
   "outputs": [
    {
     "name": "stdout",
     "output_type": "stream",
     "text": [
      "78.04878048780488 is the train accuracy\n",
      "78.18930041152264 is the test accuracy\n",
      "Classification Report for Test Set:\n",
      "\n",
      "              precision    recall  f1-score   support\n",
      "\n",
      "           0       0.92      0.82      0.87       416\n",
      "           1       0.34      0.56      0.42        70\n",
      "\n",
      "    accuracy                           0.78       486\n",
      "   macro avg       0.63      0.69      0.64       486\n",
      "weighted avg       0.83      0.78      0.80       486\n",
      "\n",
      "Confusion Matrix for Test Set:\n",
      "\n",
      "[[341  75]\n",
      " [ 31  39]]\n"
     ]
    }
   ],
   "source": [
    "from sklearn.naive_bayes import GaussianNB\n",
    "from sklearn.metrics import classification_report, confusion_matrix\n",
    "\n",
    "nb = GaussianNB()\n",
    "nb.fit(X_train, Y_train)\n",
    "\n",
    "train_pred = nb.predict(X_train)\n",
    "test_pred = nb.predict(X_test)\n",
    "train_test_error(train_pred, test_pred)\n",
    "\n",
    "print(\"Classification Report for Test Set:\\n\")\n",
    "print(classification_report(Y_test, test_pred))\n",
    "\n",
    "print(\"Confusion Matrix for Test Set:\\n\")\n",
    "print(confusion_matrix(Y_test, test_pred))\n"
   ]
  },
  {
   "cell_type": "markdown",
   "id": "7a27c262",
   "metadata": {},
   "source": [
    "# SVM"
   ]
  },
  {
   "cell_type": "code",
   "execution_count": 14,
   "id": "effc2023",
   "metadata": {},
   "outputs": [
    {
     "name": "stdout",
     "output_type": "stream",
     "text": [
      "83.02845528455285 is the train accuracy\n",
      "85.59670781893004 is the test accuracy\n",
      "Classification Report for Test Set:\n",
      "\n",
      "              precision    recall  f1-score   support\n",
      "\n",
      "           0       0.86      1.00      0.92       416\n",
      "           1       0.00      0.00      0.00        70\n",
      "\n",
      "    accuracy                           0.86       486\n",
      "   macro avg       0.43      0.50      0.46       486\n",
      "weighted avg       0.73      0.86      0.79       486\n",
      "\n",
      "Confusion Matrix for Test Set:\n",
      "\n",
      "[[416   0]\n",
      " [ 70   0]]\n"
     ]
    },
    {
     "name": "stderr",
     "output_type": "stream",
     "text": [
      "C:\\Users\\kavya\\anaconda3\\lib\\site-packages\\sklearn\\metrics\\_classification.py:1318: UndefinedMetricWarning: Precision and F-score are ill-defined and being set to 0.0 in labels with no predicted samples. Use `zero_division` parameter to control this behavior.\n",
      "  _warn_prf(average, modifier, msg_start, len(result))\n",
      "C:\\Users\\kavya\\anaconda3\\lib\\site-packages\\sklearn\\metrics\\_classification.py:1318: UndefinedMetricWarning: Precision and F-score are ill-defined and being set to 0.0 in labels with no predicted samples. Use `zero_division` parameter to control this behavior.\n",
      "  _warn_prf(average, modifier, msg_start, len(result))\n",
      "C:\\Users\\kavya\\anaconda3\\lib\\site-packages\\sklearn\\metrics\\_classification.py:1318: UndefinedMetricWarning: Precision and F-score are ill-defined and being set to 0.0 in labels with no predicted samples. Use `zero_division` parameter to control this behavior.\n",
      "  _warn_prf(average, modifier, msg_start, len(result))\n"
     ]
    }
   ],
   "source": [
    "from sklearn import svm\n",
    "from sklearn.metrics import classification_report, confusion_matrix\n",
    "\n",
    "# Fit the SVM model\n",
    "SVM = svm.SVC(probability=True)\n",
    "SVM.fit(X_train, Y_train)\n",
    "\n",
    "# Make predictions on training and test sets\n",
    "train_predict = SVM.predict(X_train)\n",
    "test_predict = SVM.predict(X_test)\n",
    "\n",
    "# Calculate predicted probabilities and predicted classes for the entire dataset\n",
    "y_prob = SVM.predict(train)\n",
    "y_pred = np.where(y_prob > 0.5, 1, 0)\n",
    "train_test_error(train_predict , test_predict)\n",
    "\n",
    "# Print classification report and confusion matrix for the test set\n",
    "print(\"Classification Report for Test Set:\\n\")\n",
    "print(classification_report(Y_test, test_predict))\n",
    "\n",
    "print(\"Confusion Matrix for Test Set:\\n\")\n",
    "print(confusion_matrix(Y_test, test_predict))"
   ]
  },
  {
   "cell_type": "markdown",
   "id": "ba9e4192",
   "metadata": {},
   "source": [
    "# KNN"
   ]
  },
  {
   "cell_type": "code",
   "execution_count": 15,
   "id": "e4ac2f20",
   "metadata": {},
   "outputs": [
    {
     "name": "stdout",
     "output_type": "stream",
     "text": [
      "100.0 is the train accuracy\n",
      "84.5679012345679 is the test accuracy\n",
      "Classification Report for Test Set:\n",
      "\n",
      "              precision    recall  f1-score   support\n",
      "\n",
      "           0       0.86      0.98      0.92       416\n",
      "           1       0.22      0.03      0.05        70\n",
      "\n",
      "    accuracy                           0.85       486\n",
      "   macro avg       0.54      0.51      0.48       486\n",
      "weighted avg       0.77      0.85      0.79       486\n",
      "\n",
      "Confusion Matrix for Test Set:\n",
      "\n",
      "[[409   7]\n",
      " [ 68   2]]\n"
     ]
    }
   ],
   "source": [
    "from sklearn import neighbors\n",
    "from sklearn.metrics import classification_report, confusion_matrix\n",
    "\n",
    "# Fit the k-NN model\n",
    "n_neighbors = 15\n",
    "knn = neighbors.KNeighborsClassifier(n_neighbors, weights='distance')\n",
    "knn.fit(X_train, Y_train)\n",
    "\n",
    "# Make predictions on training and test sets\n",
    "train_predict = knn.predict(X_train)\n",
    "test_predict = knn.predict(X_test)\n",
    "\n",
    "# Calculate predicted probabilities and predicted classes for the entire dataset\n",
    "y_prob = knn.predict(train)\n",
    "y_pred = np.where(y_prob > 0.5, 1, 0)\n",
    "train_test_error(train_predict , test_predict)\n",
    "\n",
    "# Print classification report and confusion matrix for the test set\n",
    "print(\"Classification Report for Test Set:\\n\")\n",
    "print(classification_report(Y_test, test_predict))\n",
    "\n",
    "print(\"Confusion Matrix for Test Set:\\n\")\n",
    "print(confusion_matrix(Y_test, test_predict))"
   ]
  },
  {
   "cell_type": "markdown",
   "id": "ba79d237",
   "metadata": {},
   "source": [
    "# Decision Tree"
   ]
  },
  {
   "cell_type": "code",
   "execution_count": 16,
   "id": "d71cc87c",
   "metadata": {},
   "outputs": [
    {
     "name": "stdout",
     "output_type": "stream",
     "text": [
      "100.0 is the train accuracy\n",
      "80.24691358024691 is the test accuracy\n",
      "Classification Report for Test Set:\n",
      "\n",
      "              precision    recall  f1-score   support\n",
      "\n",
      "           0       0.89      0.88      0.88       416\n",
      "           1       0.32      0.33      0.32        70\n",
      "\n",
      "    accuracy                           0.80       486\n",
      "   macro avg       0.60      0.61      0.60       486\n",
      "weighted avg       0.80      0.80      0.80       486\n",
      "\n",
      "Confusion Matrix for Test Set:\n",
      "\n",
      "[[367  49]\n",
      " [ 47  23]]\n"
     ]
    }
   ],
   "source": [
    "from sklearn import tree\n",
    "from sklearn.metrics import classification_report, confusion_matrix\n",
    "dec = tree.DecisionTreeClassifier()\n",
    "dec.fit(X_train, Y_train)\n",
    "train_predict = dec.predict(X_train)\n",
    "test_predict = dec.predict(X_test)\n",
    "y_prob = dec.predict(train)\n",
    "y_pred = np.where(y_prob > 0.5, 1, 0)\n",
    "train_test_error(train_predict , test_predict)\n",
    "# Print classification report and confusion matrix for the test set\n",
    "print(\"Classification Report for Test Set:\\n\")\n",
    "print(classification_report(Y_test, test_predict))\n",
    "print(\"Confusion Matrix for Test Set:\\n\")\n",
    "print(confusion_matrix(Y_test, test_predict))\n"
   ]
  },
  {
   "cell_type": "code",
   "execution_count": 17,
   "id": "099d435c",
   "metadata": {},
   "outputs": [],
   "source": [
    "results = pd.DataFrame({\"Test Accuracy\" : test_accuracy[:5], \"Train Accuracy\" : train_accuracy[:5]} , index = models[:5])"
   ]
  },
  {
   "cell_type": "code",
   "execution_count": 18,
   "id": "9dbe2929",
   "metadata": {},
   "outputs": [
    {
     "data": {
      "text/html": [
       "<div>\n",
       "<style scoped>\n",
       "    .dataframe tbody tr th:only-of-type {\n",
       "        vertical-align: middle;\n",
       "    }\n",
       "\n",
       "    .dataframe tbody tr th {\n",
       "        vertical-align: top;\n",
       "    }\n",
       "\n",
       "    .dataframe thead th {\n",
       "        text-align: right;\n",
       "    }\n",
       "</style>\n",
       "<table border=\"1\" class=\"dataframe\">\n",
       "  <thead>\n",
       "    <tr style=\"text-align: right;\">\n",
       "      <th></th>\n",
       "      <th>Test Accuracy</th>\n",
       "      <th>Train Accuracy</th>\n",
       "    </tr>\n",
       "  </thead>\n",
       "  <tbody>\n",
       "    <tr>\n",
       "      <th>Logistic Regression</th>\n",
       "      <td>85.390947</td>\n",
       "      <td>83.536585</td>\n",
       "    </tr>\n",
       "    <tr>\n",
       "      <th>SVM</th>\n",
       "      <td>78.189300</td>\n",
       "      <td>78.048780</td>\n",
       "    </tr>\n",
       "    <tr>\n",
       "      <th>KNN</th>\n",
       "      <td>85.596708</td>\n",
       "      <td>83.028455</td>\n",
       "    </tr>\n",
       "    <tr>\n",
       "      <th>Decision Tree</th>\n",
       "      <td>84.567901</td>\n",
       "      <td>100.000000</td>\n",
       "    </tr>\n",
       "    <tr>\n",
       "      <th>Naive bayes</th>\n",
       "      <td>80.246914</td>\n",
       "      <td>100.000000</td>\n",
       "    </tr>\n",
       "  </tbody>\n",
       "</table>\n",
       "</div>"
      ],
      "text/plain": [
       "                     Test Accuracy  Train Accuracy\n",
       "Logistic Regression      85.390947       83.536585\n",
       "SVM                      78.189300       78.048780\n",
       "KNN                      85.596708       83.028455\n",
       "Decision Tree            84.567901      100.000000\n",
       "Naive bayes              80.246914      100.000000"
      ]
     },
     "execution_count": 18,
     "metadata": {},
     "output_type": "execute_result"
    }
   ],
   "source": [
    "results"
   ]
  }
 ],
 "metadata": {
  "kernelspec": {
   "display_name": "Python 3 (ipykernel)",
   "language": "python",
   "name": "python3"
  },
  "language_info": {
   "codemirror_mode": {
    "name": "ipython",
    "version": 3
   },
   "file_extension": ".py",
   "mimetype": "text/x-python",
   "name": "python",
   "nbconvert_exporter": "python",
   "pygments_lexer": "ipython3",
   "version": "3.9.13"
  }
 },
 "nbformat": 4,
 "nbformat_minor": 5
}
